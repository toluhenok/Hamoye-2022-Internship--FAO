{
  "nbformat": 4,
  "nbformat_minor": 0,
  "metadata": {
    "colab": {
      "private_outputs": true,
      "provenance": [],
      "authorship_tag": "ABX9TyNxSYuVDZkHb9jH/9RA8vMc",
      "include_colab_link": true
    },
    "kernelspec": {
      "name": "python3",
      "display_name": "Python 3"
    },
    "language_info": {
      "name": "python"
    }
  },
  "cells": [
    {
      "cell_type": "markdown",
      "metadata": {
        "id": "view-in-github",
        "colab_type": "text"
      },
      "source": [
        "<a href=\"https://colab.research.google.com/github/toluhenok/Hamoye-2022-Internship--FAO/blob/main/Enoch_Adetunji_Food_and_Agriculture_Organization_of_the_United_Nations.ipynb\" target=\"_parent\"><img src=\"https://colab.research.google.com/assets/colab-badge.svg\" alt=\"Open In Colab\"/></a>"
      ]
    },
    {
      "cell_type": "code",
      "execution_count": null,
      "metadata": {
        "id": "bfMa86IAj5XK"
      },
      "outputs": [],
      "source": [
        "from google.colab import drive\n",
        "drive.mount('/content/drive')"
      ]
    },
    {
      "cell_type": "code",
      "source": [
        "#import libraries\n",
        "import pandas as pd\n",
        "import numpy as np\n",
        "import seaborn as sns\n",
        "import matplotlib.pyplot as plt\n",
        "%matplotlib inline"
      ],
      "metadata": {
        "id": "UBuwtZUM90Yr"
      },
      "execution_count": null,
      "outputs": []
    },
    {
      "cell_type": "code",
      "source": [
        "food_file = '/content/drive/MyDrive/Colab Notebooks/FoodBalanceSheets_E_Africa_NOFLAG.csv'\n",
        "fao = pd.read_csv(food_file, encoding = \"latin-1\")"
      ],
      "metadata": {
        "id": "43NM7yV797sZ"
      },
      "execution_count": null,
      "outputs": []
    },
    {
      "cell_type": "code",
      "source": [
        "fao.head()"
      ],
      "metadata": {
        "id": "Sbk_aZhe_Lxo"
      },
      "execution_count": null,
      "outputs": []
    },
    {
      "cell_type": "code",
      "source": [
        "fao.shape"
      ],
      "metadata": {
        "id": "KFjUx9-j_Nwy"
      },
      "execution_count": null,
      "outputs": []
    },
    {
      "cell_type": "code",
      "source": [
        "fao.isnull().sum()"
      ],
      "metadata": {
        "id": "9sz-qywE_mSO"
      },
      "execution_count": null,
      "outputs": []
    },
    {
      "cell_type": "code",
      "source": [
        "#checking for duplicates\n",
        "fao.duplicated().any()"
      ],
      "metadata": {
        "id": "Knf1R-KR_tWV"
      },
      "execution_count": null,
      "outputs": []
    },
    {
      "cell_type": "code",
      "source": [
        "#The sum of each unique value in Area\n",
        "fao.groupby('Area')['Area'].count()"
      ],
      "metadata": {
        "id": "qfneCE-aCZcb"
      },
      "execution_count": null,
      "outputs": []
    },
    {
      "cell_type": "code",
      "source": [
        "#count of Area\n",
        "fao['Area'].unique().size"
      ],
      "metadata": {
        "id": "XUlhflrrC_Ml"
      },
      "execution_count": null,
      "outputs": []
    },
    {
      "cell_type": "code",
      "source": [
        "#fill missing values from Y2014 to Y2018\n",
        "fao['Y2014'].fillna(value = fao.Y2014.median(), inplace=True)\n",
        "fao['Y2015'].fillna(value = fao.Y2014.median(), inplace=True)\n",
        "fao['Y2016'].fillna(value = fao.Y2014.median(), inplace=True)\n",
        "fao['Y2017'].fillna(value = fao.Y2014.median(), inplace=True)\n",
        "fao['Y2018'].fillna(value = fao.Y2014.median(), inplace=True)"
      ],
      "metadata": {
        "id": "OfDU7SvxFLAu"
      },
      "execution_count": null,
      "outputs": []
    },
    {
      "cell_type": "code",
      "source": [
        "fao.isnull().sum()"
      ],
      "metadata": {
        "id": "xjKyFXwSMdaG"
      },
      "execution_count": null,
      "outputs": []
    },
    {
      "cell_type": "code",
      "source": [
        "plt.figure(figsize=(20,8))\n",
        "plt.title('Year 2014')\n",
        "sns.barplot(x=fao.Area, y=fao['Y2014'])\n"
      ],
      "metadata": {
        "id": "-4-gqAkCGvn7"
      },
      "execution_count": null,
      "outputs": []
    },
    {
      "cell_type": "code",
      "source": [],
      "metadata": {
        "id": "NmApGQdtP1UX"
      },
      "execution_count": null,
      "outputs": []
    },
    {
      "cell_type": "code",
      "source": [],
      "metadata": {
        "id": "8h912GvwSoDZ"
      },
      "execution_count": null,
      "outputs": []
    }
  ]
}